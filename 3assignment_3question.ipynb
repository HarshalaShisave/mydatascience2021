{
  "nbformat": 4,
  "nbformat_minor": 0,
  "metadata": {
    "colab": {
      "name": "3assignment 3question.ipynb",
      "provenance": [],
      "authorship_tag": "ABX9TyPh2IS0QssEvNEcDd+86+7i",
      "include_colab_link": true
    },
    "kernelspec": {
      "name": "python3",
      "display_name": "Python 3"
    },
    "language_info": {
      "name": "python"
    }
  },
  "cells": [
    {
      "cell_type": "markdown",
      "metadata": {
        "id": "view-in-github",
        "colab_type": "text"
      },
      "source": [
        "<a href=\"https://colab.research.google.com/github/HarshalaShisave/mydatascience2021/blob/main/3assignment_3question.ipynb\" target=\"_parent\"><img src=\"https://colab.research.google.com/assets/colab-badge.svg\" alt=\"Open In Colab\"/></a>"
      ]
    },
    {
      "cell_type": "code",
      "metadata": {
        "id": "9voRD9H4xDXl"
      },
      "source": [
        "import pandas as pd\n",
        "import numpy as np\n",
        "import scipy as sp\n",
        "from scipy import stats\n",
        "from scipy.stats import norm"
      ],
      "execution_count": 7,
      "outputs": []
    },
    {
      "cell_type": "code",
      "metadata": {
        "id": "HMAiOHQQxZWl"
      },
      "source": [
        "data=pd.read_csv('/content/BuyerRatio.csv')\n",
        "data"
      ],
      "execution_count": null,
      "outputs": []
    },
    {
      "cell_type": "code",
      "metadata": {
        "colab": {
          "base_uri": "https://localhost:8080/"
        },
        "id": "QMmlCHytxrX8",
        "outputId": "ba507892-0d16-4bf8-90e0-47a2d3565be2"
      },
      "source": [
        "male=[50,142,131,70]\n",
        "female=[435,1523,1356,750]\n",
        "sales=[male,female]\n",
        "print(sales)"
      ],
      "execution_count": 3,
      "outputs": [
        {
          "output_type": "stream",
          "name": "stdout",
          "text": [
            "[[50, 142, 131, 70], [435, 1523, 1356, 750]]\n"
          ]
        }
      ]
    },
    {
      "cell_type": "code",
      "metadata": {
        "colab": {
          "base_uri": "https://localhost:8080/"
        },
        "id": "4KYnVXDX_NFu",
        "outputId": "1e0f98ae-4c20-4904-c2e3-906753aadf64"
      },
      "source": [
        "chiStats = sp.stats.chi2_contingency(sales)\n",
        "print('Test t=%f p-value=%f' % (chiStats[0], chiStats[1]))\n",
        "print('Interpret by p-Value')\n"
      ],
      "execution_count": 13,
      "outputs": [
        {
          "output_type": "stream",
          "name": "stdout",
          "text": [
            "Test t=1.595946 p-value=0.660309\n",
            "Interpret by p-Value\n"
          ]
        }
      ]
    },
    {
      "cell_type": "markdown",
      "metadata": {
        "id": "YW5AGnu9ApgW"
      },
      "source": [
        "**pvalue>0.05 Therefore, as interpreted by p-value all proportions are equal**"
      ]
    },
    {
      "cell_type": "code",
      "metadata": {
        "id": "wSdRNBRtBqcm"
      },
      "source": [
        ""
      ],
      "execution_count": null,
      "outputs": []
    }
  ]
}