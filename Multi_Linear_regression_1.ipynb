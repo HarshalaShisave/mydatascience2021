{
  "nbformat": 4,
  "nbformat_minor": 0,
  "metadata": {
    "colab": {
      "name": "Multi Linear regression-1.ipynb",
      "provenance": [],
      "collapsed_sections": [],
      "authorship_tag": "ABX9TyOnthEdXTMdJfYtrcbz3+at",
      "include_colab_link": true
    },
    "kernelspec": {
      "name": "python3",
      "display_name": "Python 3"
    },
    "language_info": {
      "name": "python"
    }
  },
  "cells": [
    {
      "cell_type": "markdown",
      "metadata": {
        "id": "view-in-github",
        "colab_type": "text"
      },
      "source": [
        "<a href=\"https://colab.research.google.com/github/HarshalaShisave/mydatascience2021/blob/main/Multi_Linear_regression_1.ipynb\" target=\"_parent\"><img src=\"https://colab.research.google.com/assets/colab-badge.svg\" alt=\"Open In Colab\"/></a>"
      ]
    },
    {
      "cell_type": "code",
      "execution_count": null,
      "metadata": {
        "id": "uN1eQMFJaaDN"
      },
      "outputs": [],
      "source": [
        "import pandas as pd\n",
        "import numpy as np\n",
        "import matplotlib.pyplot as plt\n",
        "import seaborn as sns\n",
        "import statsmodels.formula.api as smf\n",
        "import statsmodels.api as sm\n",
        "from statsmodels.graphics.regressionplots import influence_plot"
      ]
    },
    {
      "cell_type": "code",
      "source": [
        "data=pd.read_csv('/content/50_Startups.csv')\n",
        "data"
      ],
      "metadata": {
        "id": "FjSrL52CawNi"
      },
      "execution_count": null,
      "outputs": []
    },
    {
      "cell_type": "markdown",
      "source": [
        "**EDA**"
      ],
      "metadata": {
        "id": "EIn7-yh6gyE0"
      }
    },
    {
      "cell_type": "code",
      "source": [
        "data.info()"
      ],
      "metadata": {
        "id": "BSGJtLa9awK6"
      },
      "execution_count": null,
      "outputs": []
    },
    {
      "cell_type": "code",
      "source": [
        "data1=data.rename({'R&D Spend':'RDS','Administration':'ADMS','Marketing Spend':'MKTS'},axis=1)\n",
        "data1"
      ],
      "metadata": {
        "id": "p-P10230awH8"
      },
      "execution_count": null,
      "outputs": []
    },
    {
      "cell_type": "code",
      "source": [
        "data1[data1.duplicated()]"
      ],
      "metadata": {
        "id": "twfyxWnlawFD"
      },
      "execution_count": null,
      "outputs": []
    },
    {
      "cell_type": "code",
      "source": [
        "data1.describe()"
      ],
      "metadata": {
        "id": "ooXlkfymawCO"
      },
      "execution_count": null,
      "outputs": []
    },
    {
      "cell_type": "markdown",
      "source": [
        "**CORRELATION**"
      ],
      "metadata": {
        "id": "9E4A2ckDhPjg"
      }
    },
    {
      "cell_type": "code",
      "source": [
        "data1.corr()"
      ],
      "metadata": {
        "id": "UcSwNXnHav-b"
      },
      "execution_count": null,
      "outputs": []
    },
    {
      "cell_type": "code",
      "source": [
        "sns.set_style(style='darkgrid')\n",
        "sns.pairplot(data1)"
      ],
      "metadata": {
        "id": "hl4_XBguavri"
      },
      "execution_count": null,
      "outputs": []
    },
    {
      "cell_type": "markdown",
      "source": [
        "**MODEL BUILDING**"
      ],
      "metadata": {
        "id": "PnBSTrZ3h5yF"
      }
    },
    {
      "cell_type": "code",
      "source": [
        "model=smf.ols(\"Profit~RDS+ADMS+MKTS\",data=data1).fit()"
      ],
      "metadata": {
        "id": "kibZyMmVauBz"
      },
      "execution_count": 11,
      "outputs": []
    },
    {
      "cell_type": "markdown",
      "source": [
        "**MODEL TESTING**"
      ],
      "metadata": {
        "id": "tU-X3vhPiC71"
      }
    },
    {
      "cell_type": "code",
      "source": [
        "model.params"
      ],
      "metadata": {
        "id": "gpqTk_Rwh1P8"
      },
      "execution_count": null,
      "outputs": []
    },
    {
      "cell_type": "code",
      "source": [
        "model.tvalues , np.round(model.pvalues,5)"
      ],
      "metadata": {
        "id": "kC3rYp6Kh1M8"
      },
      "execution_count": null,
      "outputs": []
    },
    {
      "cell_type": "code",
      "source": [
        "model.rsquared , model.rsquared_adj "
      ],
      "metadata": {
        "id": "Klpc6NDOh1KX"
      },
      "execution_count": null,
      "outputs": []
    },
    {
      "cell_type": "code",
      "source": [
        "# Build SLR and MLR models for insignificant variables 'ADMS' and 'MKTS'\n",
        "# Also find their tvalues and pvalues\n",
        "slr_a=smf.ols(\"Profit~ADMS\",data=data1).fit()\n",
        "slr_a.tvalues , slr_a.pvalues  # ADMS has in-significant pvalue"
      ],
      "metadata": {
        "id": "UsMsMJ3Rh1Hm"
      },
      "execution_count": null,
      "outputs": []
    },
    {
      "cell_type": "code",
      "source": [
        "slr_m=smf.ols(\"Profit~MKTS\",data=data1).fit()\n",
        "slr_m.tvalues , slr_m.pvalues  "
      ],
      "metadata": {
        "id": "nKFDYjvbh1Ec"
      },
      "execution_count": null,
      "outputs": []
    },
    {
      "cell_type": "code",
      "source": [
        "mlr_am=smf.ols(\"Profit~ADMS+MKTS\",data=data1).fit()\n",
        "mlr_am.tvalues , mlr_am.pvalues "
      ],
      "metadata": {
        "id": "RsivBw_Fin1h"
      },
      "execution_count": null,
      "outputs": []
    },
    {
      "cell_type": "markdown",
      "source": [
        "**Model Validation**\n",
        "**Two Techniques: 1. Collinearity Check & 2. Residual Analysis**"
      ],
      "metadata": {
        "id": "cU_vCM8fi5EM"
      }
    },
    {
      "cell_type": "code",
      "source": [
        "rsq_r=smf.ols(\"RDS~ADMS+MKTS\",data=data1).fit().rsquared\n",
        "vif_r=1/(1-rsq_r)\n",
        "\n",
        "rsq_a=smf.ols(\"ADMS~RDS+MKTS\",data=data1).fit().rsquared\n",
        "vif_a=1/(1-rsq_a)\n",
        "\n",
        "rsq_m=smf.ols(\"MKTS~RDS+ADMS\",data=data1).fit().rsquared\n",
        "vif_m=1/(1-rsq_m)\n",
        "\n",
        "# Putting the values in Dataframe format\n",
        "d1={'Variables':['RDS','ADMS','MKTS'],'Vif':[vif_r,vif_a,vif_m]}\n",
        "Vif_df=pd.DataFrame(d1)\n",
        "Vif_df\n"
      ],
      "metadata": {
        "id": "DNeEqupUinyg"
      },
      "execution_count": null,
      "outputs": []
    },
    {
      "cell_type": "code",
      "source": [
        "# 2) Residual Analysis\n",
        "# Test for Normality of Residuals (Q-Q Plot) using residual model (model.resid)\n",
        "\n",
        "sm.qqplot(model.resid,line='q')\n",
        "plt.title(\"Normal Q-Q plot of residuals\")\n",
        "plt.show()"
      ],
      "metadata": {
        "id": "0cAypIxjinv5"
      },
      "execution_count": null,
      "outputs": []
    },
    {
      "cell_type": "code",
      "source": [
        "list(np.where(model.resid<-30000))"
      ],
      "metadata": {
        "id": "7tMkZPJHinsg"
      },
      "execution_count": null,
      "outputs": []
    },
    {
      "cell_type": "code",
      "source": [
        "# Test for Homoscedasticity or Heteroscedasticity (plotting model's standardized fitted values vs standardized residual values)\n",
        "\n",
        "def standard_values(vals) : return (vals-vals.mean())/vals.std()  # User defined z = (x - mu)/sigma"
      ],
      "metadata": {
        "id": "AQzSmrl2inoB"
      },
      "execution_count": 23,
      "outputs": []
    },
    {
      "cell_type": "code",
      "source": [
        "plt.scatter(standard_values(model.fittedvalues),standard_values(model.resid))\n",
        "plt.title('Residual Plot')\n",
        "plt.xlabel('standardized fitted values')\n",
        "plt.ylabel('standardized residual values')\n",
        "plt.show() "
      ],
      "metadata": {
        "id": "vXsbxcp7inlb"
      },
      "execution_count": null,
      "outputs": []
    },
    {
      "cell_type": "code",
      "source": [
        "# Test for errors or Residuals Vs Regressors or independent 'x' variables or predictors \n",
        "# using Residual Regression Plots code graphics.plot_regress_exog(model,'x',fig)    # exog = x-variable & endog = y-variable\n",
        "fig=plt.figure(figsize=(15,8))\n",
        "sm.graphics.plot_regress_exog(model,'RDS',fig=fig)\n",
        "plt.show()"
      ],
      "metadata": {
        "id": "bpKIO5osini4"
      },
      "execution_count": null,
      "outputs": []
    },
    {
      "cell_type": "code",
      "source": [
        "fig=plt.figure(figsize=(15,8))\n",
        "sm.graphics.plot_regress_exog(model,'ADMS',fig=fig)\n",
        "plt.show()"
      ],
      "metadata": {
        "id": "xMzxQt_8ingF"
      },
      "execution_count": null,
      "outputs": []
    },
    {
      "cell_type": "code",
      "source": [
        "fig=plt.figure(figsize=(15,8))\n",
        "sm.graphics.plot_regress_exog(model,'MKTS',fig=fig)\n",
        "plt.show()"
      ],
      "metadata": {
        "id": "8y9Z6qKoj4Ig"
      },
      "execution_count": null,
      "outputs": []
    },
    {
      "cell_type": "markdown",
      "source": [
        "**Model Deletion Diagnostics (checking Outliers or Influencers)\n",
        "Two Techniques : 1. Cook's Distance & 2. Leverage value**"
      ],
      "metadata": {
        "id": "i5fdn40LkGtV"
      }
    },
    {
      "cell_type": "code",
      "source": [
        "# 1. Cook's Distance: If Cook's distance > 1, then it's an outlier\n",
        "# Get influencers using cook's distance\n",
        "(c,_)=model.get_influence().cooks_distance\n",
        "c"
      ],
      "metadata": {
        "id": "JHdo9HF3j4FQ"
      },
      "execution_count": null,
      "outputs": []
    },
    {
      "cell_type": "code",
      "source": [
        "# Plot the influencers using the stem plot\n",
        "fig=plt.figure(figsize=(20,7))\n",
        "plt.stem(np.arange(len(data1)),np.round(c,5))\n",
        "plt.xlabel('Row Index')\n",
        "plt.ylabel('Cooks Distance')\n",
        "plt.show()"
      ],
      "metadata": {
        "id": "hFFpquGfj4CQ"
      },
      "execution_count": null,
      "outputs": []
    },
    {
      "cell_type": "code",
      "source": [
        "# Index and value of influencer where C>0.5\n",
        "np.argmax(c) , np.max(c)"
      ],
      "metadata": {
        "id": "j735hZCfkXgM"
      },
      "execution_count": null,
      "outputs": []
    },
    {
      "cell_type": "code",
      "source": [
        "# 2. Leverage Value using High Influence Points : Points beyond Leverage_cutoff value are influencers\n",
        "influence_plot(model)\n",
        "plt.show()"
      ],
      "metadata": {
        "id": "vrHH0QAUkXcz"
      },
      "execution_count": null,
      "outputs": []
    },
    {
      "cell_type": "code",
      "source": [
        "# Leverage Cuttoff Value = 3*(k+1)/n ; k = no.of features/columns & n = no. of datapoints\n",
        "k=data1.shape[1]\n",
        "n=data1.shape[0]\n",
        "leverage_cutoff = (3*(k+1))/n\n",
        "leverage_cutoff"
      ],
      "metadata": {
        "id": "Oo5J7ezrkXXc"
      },
      "execution_count": null,
      "outputs": []
    },
    {
      "cell_type": "code",
      "source": [
        "data1[data1.index.isin([49])] "
      ],
      "metadata": {
        "id": "jDUghY7qkXUW"
      },
      "execution_count": null,
      "outputs": []
    },
    {
      "cell_type": "markdown",
      "source": [
        "**Improving the Model**"
      ],
      "metadata": {
        "id": "_NcvRqjolAeV"
      }
    },
    {
      "cell_type": "code",
      "source": [
        "data2=data1.drop(data1.index[[49]],axis=0).reset_index(drop=True)\n",
        "data2"
      ],
      "metadata": {
        "id": "YXM1x4UxkXQW"
      },
      "execution_count": null,
      "outputs": []
    },
    {
      "cell_type": "markdown",
      "source": [
        "**Model Deletion Diagnostics and Final Modelt**"
      ],
      "metadata": {
        "id": "NuaGfDwmlM26"
      }
    },
    {
      "cell_type": "code",
      "source": [
        "while np.max(c)>0.5 :\n",
        "    model=smf.ols(\"Profit~RDS+ADMS+MKTS\",data=data2).fit()\n",
        "    (c,_)=model.get_influence().cooks_distance\n",
        "    c\n",
        "    np.argmax(c) , np.max(c)\n",
        "    data2=data2.drop(data2.index[[np.argmax(c)]],axis=0).reset_index(drop=True)\n",
        "    data2\n",
        "else:\n",
        "    final_model=smf.ols(\"Profit~RDS+ADMS+MKTS\",data=data2).fit()\n",
        "    final_model.rsquared , final_model.aic\n",
        "    print(\"Thus model accuracy is improved to\",final_model.rsquared)"
      ],
      "metadata": {
        "id": "_LeJp_GWj3_B"
      },
      "execution_count": null,
      "outputs": []
    },
    {
      "cell_type": "code",
      "source": [
        "final_model.rsquared"
      ],
      "metadata": {
        "id": "MSQKL2GVlI2K"
      },
      "execution_count": null,
      "outputs": []
    },
    {
      "cell_type": "code",
      "source": [
        "data2"
      ],
      "metadata": {
        "id": "BNC8y-DRlIyZ"
      },
      "execution_count": null,
      "outputs": []
    },
    {
      "cell_type": "markdown",
      "source": [
        "**Model Predictions**"
      ],
      "metadata": {
        "id": "DMNqugL1lfGn"
      }
    },
    {
      "cell_type": "code",
      "source": [
        "new_data=pd.DataFrame({'RDS':70000,\"ADMS\":90000,\"MKTS\":140000},index=[0])\n",
        "new_data"
      ],
      "metadata": {
        "id": "BiDttlUiinah"
      },
      "execution_count": null,
      "outputs": []
    },
    {
      "cell_type": "code",
      "source": [
        "final_model.predict(new_data)"
      ],
      "metadata": {
        "id": "SpkiRuQXli5M"
      },
      "execution_count": null,
      "outputs": []
    },
    {
      "cell_type": "code",
      "source": [
        "pred_y=final_model.predict(data2)\n",
        "pred_y"
      ],
      "metadata": {
        "id": "TxMCndVdli1z"
      },
      "execution_count": null,
      "outputs": []
    },
    {
      "cell_type": "markdown",
      "source": [
        "**table containing R^2 value for each prepared model**"
      ],
      "metadata": {
        "id": "CQsQsRTKlzYc"
      }
    },
    {
      "cell_type": "code",
      "source": [
        "d2={'Prep_Models':['Model','Final_Model'],'Rsquared':[model.rsquared,final_model.rsquared]}\n",
        "table=pd.DataFrame(d2)\n",
        "table"
      ],
      "metadata": {
        "colab": {
          "base_uri": "https://localhost:8080/",
          "height": 112
        },
        "id": "0DwbGg84liyk",
        "outputId": "a6fbd20e-fedf-4dc3-c6cb-aaff681f8624"
      },
      "execution_count": 42,
      "outputs": [
        {
          "output_type": "execute_result",
          "data": {
            "text/html": [
              "<div>\n",
              "<style scoped>\n",
              "    .dataframe tbody tr th:only-of-type {\n",
              "        vertical-align: middle;\n",
              "    }\n",
              "\n",
              "    .dataframe tbody tr th {\n",
              "        vertical-align: top;\n",
              "    }\n",
              "\n",
              "    .dataframe thead th {\n",
              "        text-align: right;\n",
              "    }\n",
              "</style>\n",
              "<table border=\"1\" class=\"dataframe\">\n",
              "  <thead>\n",
              "    <tr style=\"text-align: right;\">\n",
              "      <th></th>\n",
              "      <th>Prep_Models</th>\n",
              "      <th>Rsquared</th>\n",
              "    </tr>\n",
              "  </thead>\n",
              "  <tbody>\n",
              "    <tr>\n",
              "      <th>0</th>\n",
              "      <td>Model</td>\n",
              "      <td>0.950746</td>\n",
              "    </tr>\n",
              "    <tr>\n",
              "      <th>1</th>\n",
              "      <td>Final_Model</td>\n",
              "      <td>0.961316</td>\n",
              "    </tr>\n",
              "  </tbody>\n",
              "</table>\n",
              "</div>"
            ],
            "text/plain": [
              "   Prep_Models  Rsquared\n",
              "0        Model  0.950746\n",
              "1  Final_Model  0.961316"
            ]
          },
          "metadata": {},
          "execution_count": 42
        }
      ]
    },
    {
      "cell_type": "code",
      "source": [
        ""
      ],
      "metadata": {
        "id": "rO0EUMIylivl"
      },
      "execution_count": null,
      "outputs": []
    },
    {
      "cell_type": "code",
      "source": [
        ""
      ],
      "metadata": {
        "id": "iF8DufyQinUi"
      },
      "execution_count": null,
      "outputs": []
    },
    {
      "cell_type": "code",
      "source": [
        ""
      ],
      "metadata": {
        "id": "veDt0o6YinQa"
      },
      "execution_count": null,
      "outputs": []
    }
  ]
}