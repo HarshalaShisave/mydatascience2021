{
  "nbformat": 4,
  "nbformat_minor": 0,
  "metadata": {
    "colab": {
      "name": "3assignment 2question",
      "provenance": [],
      "authorship_tag": "ABX9TyO/4Y/c8XtmbAK/vaOXiB5/",
      "include_colab_link": true
    },
    "kernelspec": {
      "name": "python3",
      "display_name": "Python 3"
    },
    "language_info": {
      "name": "python"
    }
  },
  "cells": [
    {
      "cell_type": "markdown",
      "metadata": {
        "id": "view-in-github",
        "colab_type": "text"
      },
      "source": [
        "<a href=\"https://colab.research.google.com/github/HarshalaShisave/mydatascience2021/blob/main/3assignment_2question.ipynb\" target=\"_parent\"><img src=\"https://colab.research.google.com/assets/colab-badge.svg\" alt=\"Open In Colab\"/></a>"
      ]
    },
    {
      "cell_type": "markdown",
      "metadata": {
        "id": "_0lVRSyzln7d"
      },
      "source": [
        "A hospital wants to determine whether there is any difference in the average Turn Around Time (TAT) of reports of the laboratories on their preferred list. They collected a random sample and recorded TAT for reports of 4 laboratories. TAT is defined as sample collected to report dispatch. Analyze the data and determine whether there is any difference in average TAT among the different laboratories at 5% significance level"
      ]
    },
    {
      "cell_type": "markdown",
      "metadata": {
        "id": "BJmhQCV1mMck"
      },
      "source": [
        "Ho=there is a difference in average TAT among the different laboratories\n",
        "H1=there is no difference in average TAT among the different laboratories"
      ]
    },
    {
      "cell_type": "code",
      "metadata": {
        "id": "D4T-nJoblq1T"
      },
      "source": [
        "import pandas as pd\n",
        "import numpy as np\n",
        "from scipy import stats\n",
        "from scipy.stats import norm"
      ],
      "execution_count": 5,
      "outputs": []
    },
    {
      "cell_type": "code",
      "metadata": {
        "id": "6goxYitTpgJf"
      },
      "source": [
        "data=pd.read_csv('/content/LabTAT.csv')\n",
        "data"
      ],
      "execution_count": null,
      "outputs": []
    },
    {
      "cell_type": "code",
      "metadata": {
        "colab": {
          "base_uri": "https://localhost:8080/"
        },
        "id": "zOgwNGqXpygb",
        "outputId": "fc1d0bcf-9cfc-425f-baa9-9bebedd50d4b"
      },
      "source": [
        "p_value=stats.f_oneway(data.iloc[:,0],data.iloc[:,1],data.iloc[:,2],data.iloc[:,3])\n",
        "p_value"
      ],
      "execution_count": 10,
      "outputs": [
        {
          "output_type": "execute_result",
          "data": {
            "text/plain": [
              "F_onewayResult(statistic=118.70421654401437, pvalue=2.1156708949992414e-57)"
            ]
          },
          "metadata": {},
          "execution_count": 10
        }
      ]
    },
    {
      "cell_type": "markdown",
      "metadata": {
        "id": "Ybj4w9TlqyOT"
      },
      "source": [
        "**pvalue>0.05 Therefore,there is a difference in average TAT among the different laboratories**"
      ]
    }
  ]
}